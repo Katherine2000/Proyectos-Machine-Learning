{
 "cells": [
  {
   "cell_type": "code",
   "execution_count": 1,
   "metadata": {},
   "outputs": [
    {
     "ename": "ParserError",
     "evalue": "Error tokenizing data. C error: Expected 5 fields in line 2, saw 11\n",
     "output_type": "error",
     "traceback": [
      "\u001b[0;31m---------------------------------------------------------------------------\u001b[0m",
      "\u001b[0;31mParserError\u001b[0m                               Traceback (most recent call last)",
      "\u001b[0;32m<ipython-input-1-8b9c0bf477f0>\u001b[0m in \u001b[0;36m<module>\u001b[0;34m\u001b[0m\n\u001b[1;32m     12\u001b[0m \u001b[0murl1\u001b[0m \u001b[0;34m=\u001b[0m\u001b[0;34m\"avila-ts.txt\"\u001b[0m\u001b[0;34m\u001b[0m\u001b[0;34m\u001b[0m\u001b[0m\n\u001b[1;32m     13\u001b[0m \u001b[0mdata1\u001b[0m \u001b[0;34m=\u001b[0m \u001b[0mpd\u001b[0m\u001b[0;34m.\u001b[0m\u001b[0mread_csv\u001b[0m\u001b[0;34m(\u001b[0m\u001b[0murl\u001b[0m\u001b[0;34m,\u001b[0m\u001b[0mheader\u001b[0m\u001b[0;34m=\u001b[0m\u001b[0;32mNone\u001b[0m\u001b[0;34m,\u001b[0m \u001b[0msep\u001b[0m\u001b[0;34m=\u001b[0m\u001b[0;34m','\u001b[0m\u001b[0;34m)\u001b[0m\u001b[0;34m\u001b[0m\u001b[0;34m\u001b[0m\u001b[0m\n\u001b[0;32m---> 14\u001b[0;31m \u001b[0mdata2\u001b[0m \u001b[0;34m=\u001b[0m \u001b[0mpd\u001b[0m\u001b[0;34m.\u001b[0m\u001b[0mread_csv\u001b[0m\u001b[0;34m(\u001b[0m\u001b[0murl1\u001b[0m\u001b[0;34m,\u001b[0m\u001b[0mheader\u001b[0m\u001b[0;34m=\u001b[0m\u001b[0;32mNone\u001b[0m\u001b[0;34m,\u001b[0m \u001b[0msep\u001b[0m\u001b[0;34m=\u001b[0m\u001b[0;34m','\u001b[0m\u001b[0;34m)\u001b[0m\u001b[0;34m\u001b[0m\u001b[0;34m\u001b[0m\u001b[0m\n\u001b[0m\u001b[1;32m     15\u001b[0m \u001b[0mdata\u001b[0m \u001b[0;34m=\u001b[0m \u001b[0mpd\u001b[0m\u001b[0;34m.\u001b[0m\u001b[0mconcat\u001b[0m\u001b[0;34m(\u001b[0m\u001b[0;34m[\u001b[0m\u001b[0mdata1\u001b[0m\u001b[0;34m,\u001b[0m\u001b[0mdata2\u001b[0m\u001b[0;34m]\u001b[0m\u001b[0;34m)\u001b[0m\u001b[0;34m\u001b[0m\u001b[0;34m\u001b[0m\u001b[0m\n\u001b[1;32m     16\u001b[0m \u001b[0;34m\u001b[0m\u001b[0m\n",
      "\u001b[0;32m~/anaconda3/lib/python3.7/site-packages/pandas/io/parsers.py\u001b[0m in \u001b[0;36mparser_f\u001b[0;34m(filepath_or_buffer, sep, delimiter, header, names, index_col, usecols, squeeze, prefix, mangle_dupe_cols, dtype, engine, converters, true_values, false_values, skipinitialspace, skiprows, skipfooter, nrows, na_values, keep_default_na, na_filter, verbose, skip_blank_lines, parse_dates, infer_datetime_format, keep_date_col, date_parser, dayfirst, cache_dates, iterator, chunksize, compression, thousands, decimal, lineterminator, quotechar, quoting, doublequote, escapechar, comment, encoding, dialect, error_bad_lines, warn_bad_lines, delim_whitespace, low_memory, memory_map, float_precision)\u001b[0m\n\u001b[1;32m    674\u001b[0m         )\n\u001b[1;32m    675\u001b[0m \u001b[0;34m\u001b[0m\u001b[0m\n\u001b[0;32m--> 676\u001b[0;31m         \u001b[0;32mreturn\u001b[0m \u001b[0m_read\u001b[0m\u001b[0;34m(\u001b[0m\u001b[0mfilepath_or_buffer\u001b[0m\u001b[0;34m,\u001b[0m \u001b[0mkwds\u001b[0m\u001b[0;34m)\u001b[0m\u001b[0;34m\u001b[0m\u001b[0;34m\u001b[0m\u001b[0m\n\u001b[0m\u001b[1;32m    677\u001b[0m \u001b[0;34m\u001b[0m\u001b[0m\n\u001b[1;32m    678\u001b[0m     \u001b[0mparser_f\u001b[0m\u001b[0;34m.\u001b[0m\u001b[0m__name__\u001b[0m \u001b[0;34m=\u001b[0m \u001b[0mname\u001b[0m\u001b[0;34m\u001b[0m\u001b[0;34m\u001b[0m\u001b[0m\n",
      "\u001b[0;32m~/anaconda3/lib/python3.7/site-packages/pandas/io/parsers.py\u001b[0m in \u001b[0;36m_read\u001b[0;34m(filepath_or_buffer, kwds)\u001b[0m\n\u001b[1;32m    452\u001b[0m \u001b[0;34m\u001b[0m\u001b[0m\n\u001b[1;32m    453\u001b[0m     \u001b[0;32mtry\u001b[0m\u001b[0;34m:\u001b[0m\u001b[0;34m\u001b[0m\u001b[0;34m\u001b[0m\u001b[0m\n\u001b[0;32m--> 454\u001b[0;31m         \u001b[0mdata\u001b[0m \u001b[0;34m=\u001b[0m \u001b[0mparser\u001b[0m\u001b[0;34m.\u001b[0m\u001b[0mread\u001b[0m\u001b[0;34m(\u001b[0m\u001b[0mnrows\u001b[0m\u001b[0;34m)\u001b[0m\u001b[0;34m\u001b[0m\u001b[0;34m\u001b[0m\u001b[0m\n\u001b[0m\u001b[1;32m    455\u001b[0m     \u001b[0;32mfinally\u001b[0m\u001b[0;34m:\u001b[0m\u001b[0;34m\u001b[0m\u001b[0;34m\u001b[0m\u001b[0m\n\u001b[1;32m    456\u001b[0m         \u001b[0mparser\u001b[0m\u001b[0;34m.\u001b[0m\u001b[0mclose\u001b[0m\u001b[0;34m(\u001b[0m\u001b[0;34m)\u001b[0m\u001b[0;34m\u001b[0m\u001b[0;34m\u001b[0m\u001b[0m\n",
      "\u001b[0;32m~/anaconda3/lib/python3.7/site-packages/pandas/io/parsers.py\u001b[0m in \u001b[0;36mread\u001b[0;34m(self, nrows)\u001b[0m\n\u001b[1;32m   1131\u001b[0m     \u001b[0;32mdef\u001b[0m \u001b[0mread\u001b[0m\u001b[0;34m(\u001b[0m\u001b[0mself\u001b[0m\u001b[0;34m,\u001b[0m \u001b[0mnrows\u001b[0m\u001b[0;34m=\u001b[0m\u001b[0;32mNone\u001b[0m\u001b[0;34m)\u001b[0m\u001b[0;34m:\u001b[0m\u001b[0;34m\u001b[0m\u001b[0;34m\u001b[0m\u001b[0m\n\u001b[1;32m   1132\u001b[0m         \u001b[0mnrows\u001b[0m \u001b[0;34m=\u001b[0m \u001b[0m_validate_integer\u001b[0m\u001b[0;34m(\u001b[0m\u001b[0;34m\"nrows\"\u001b[0m\u001b[0;34m,\u001b[0m \u001b[0mnrows\u001b[0m\u001b[0;34m)\u001b[0m\u001b[0;34m\u001b[0m\u001b[0;34m\u001b[0m\u001b[0m\n\u001b[0;32m-> 1133\u001b[0;31m         \u001b[0mret\u001b[0m \u001b[0;34m=\u001b[0m \u001b[0mself\u001b[0m\u001b[0;34m.\u001b[0m\u001b[0m_engine\u001b[0m\u001b[0;34m.\u001b[0m\u001b[0mread\u001b[0m\u001b[0;34m(\u001b[0m\u001b[0mnrows\u001b[0m\u001b[0;34m)\u001b[0m\u001b[0;34m\u001b[0m\u001b[0;34m\u001b[0m\u001b[0m\n\u001b[0m\u001b[1;32m   1134\u001b[0m \u001b[0;34m\u001b[0m\u001b[0m\n\u001b[1;32m   1135\u001b[0m         \u001b[0;31m# May alter columns / col_dict\u001b[0m\u001b[0;34m\u001b[0m\u001b[0;34m\u001b[0m\u001b[0;34m\u001b[0m\u001b[0m\n",
      "\u001b[0;32m~/anaconda3/lib/python3.7/site-packages/pandas/io/parsers.py\u001b[0m in \u001b[0;36mread\u001b[0;34m(self, nrows)\u001b[0m\n\u001b[1;32m   2035\u001b[0m     \u001b[0;32mdef\u001b[0m \u001b[0mread\u001b[0m\u001b[0;34m(\u001b[0m\u001b[0mself\u001b[0m\u001b[0;34m,\u001b[0m \u001b[0mnrows\u001b[0m\u001b[0;34m=\u001b[0m\u001b[0;32mNone\u001b[0m\u001b[0;34m)\u001b[0m\u001b[0;34m:\u001b[0m\u001b[0;34m\u001b[0m\u001b[0;34m\u001b[0m\u001b[0m\n\u001b[1;32m   2036\u001b[0m         \u001b[0;32mtry\u001b[0m\u001b[0;34m:\u001b[0m\u001b[0;34m\u001b[0m\u001b[0;34m\u001b[0m\u001b[0m\n\u001b[0;32m-> 2037\u001b[0;31m             \u001b[0mdata\u001b[0m \u001b[0;34m=\u001b[0m \u001b[0mself\u001b[0m\u001b[0;34m.\u001b[0m\u001b[0m_reader\u001b[0m\u001b[0;34m.\u001b[0m\u001b[0mread\u001b[0m\u001b[0;34m(\u001b[0m\u001b[0mnrows\u001b[0m\u001b[0;34m)\u001b[0m\u001b[0;34m\u001b[0m\u001b[0;34m\u001b[0m\u001b[0m\n\u001b[0m\u001b[1;32m   2038\u001b[0m         \u001b[0;32mexcept\u001b[0m \u001b[0mStopIteration\u001b[0m\u001b[0;34m:\u001b[0m\u001b[0;34m\u001b[0m\u001b[0;34m\u001b[0m\u001b[0m\n\u001b[1;32m   2039\u001b[0m             \u001b[0;32mif\u001b[0m \u001b[0mself\u001b[0m\u001b[0;34m.\u001b[0m\u001b[0m_first_chunk\u001b[0m\u001b[0;34m:\u001b[0m\u001b[0;34m\u001b[0m\u001b[0;34m\u001b[0m\u001b[0m\n",
      "\u001b[0;32mpandas/_libs/parsers.pyx\u001b[0m in \u001b[0;36mpandas._libs.parsers.TextReader.read\u001b[0;34m()\u001b[0m\n",
      "\u001b[0;32mpandas/_libs/parsers.pyx\u001b[0m in \u001b[0;36mpandas._libs.parsers.TextReader._read_low_memory\u001b[0;34m()\u001b[0m\n",
      "\u001b[0;32mpandas/_libs/parsers.pyx\u001b[0m in \u001b[0;36mpandas._libs.parsers.TextReader._read_rows\u001b[0;34m()\u001b[0m\n",
      "\u001b[0;32mpandas/_libs/parsers.pyx\u001b[0m in \u001b[0;36mpandas._libs.parsers.TextReader._tokenize_rows\u001b[0;34m()\u001b[0m\n",
      "\u001b[0;32mpandas/_libs/parsers.pyx\u001b[0m in \u001b[0;36mpandas._libs.parsers.raise_parser_error\u001b[0;34m()\u001b[0m\n",
      "\u001b[0;31mParserError\u001b[0m: Error tokenizing data. C error: Expected 5 fields in line 2, saw 11\n"
     ]
    }
   ],
   "source": [
    "import numpy as np\n",
    "import pandas as pd\n",
    "import sklearn as sk\n",
    "import seaborn as sns\n",
    "import matplotlib.pyplot as plt\n",
    "from sklearn.preprocessing import LabelEncoder \n",
    "from sklearn import preprocessing\n",
    "from sklearn.model_selection import train_test_split\n",
    "\n",
    "\n",
    "url =\"avila-tr.txt\"\n",
    "url1 =\"avila-ts.txt\"\n",
    "data1 = pd.read_csv(url,header=None, sep=',') \n",
    "data2 = pd.read_csv(url1,header=None, sep=',')\n",
    "data = pd.concat([data1,data2])\n",
    "\n",
    "data.columns = ['F1 intercolumnar distance','F2 upper margin','F3 lower margin','F4 exploitation','F5 row number','F6 modular ratio','F7 interlinear spacing','F8 weight','F9 peak number','F10 modular ratio/ interlinear spacing','type copyist']\n",
    "data"
   ]
  },
  {
   "cell_type": "code",
   "execution_count": 1,
   "metadata": {},
   "outputs": [
    {
     "ename": "NameError",
     "evalue": "name 'data2' is not defined",
     "output_type": "error",
     "traceback": [
      "\u001b[0;31m---------------------------------------------------------------------------\u001b[0m",
      "\u001b[0;31mNameError\u001b[0m                                 Traceback (most recent call last)",
      "\u001b[0;32m<ipython-input-1-340f72ff818e>\u001b[0m in \u001b[0;36m<module>\u001b[0;34m\u001b[0m\n\u001b[1;32m      1\u001b[0m \u001b[0;31m#número de registros y atributos\u001b[0m\u001b[0;34m\u001b[0m\u001b[0;34m\u001b[0m\u001b[0;34m\u001b[0m\u001b[0m\n\u001b[0;32m----> 2\u001b[0;31m \u001b[0mshape\u001b[0m \u001b[0;34m=\u001b[0m \u001b[0mdata2\u001b[0m\u001b[0;34m.\u001b[0m\u001b[0mshape\u001b[0m\u001b[0;34m\u001b[0m\u001b[0;34m\u001b[0m\u001b[0m\n\u001b[0m\u001b[1;32m      3\u001b[0m \u001b[0mshape\u001b[0m\u001b[0;34m\u001b[0m\u001b[0;34m\u001b[0m\u001b[0m\n",
      "\u001b[0;31mNameError\u001b[0m: name 'data2' is not defined"
     ]
    }
   ],
   "source": [
    "#número de registros y atributos\n",
    "shape = data2.shape\n",
    "shape"
   ]
  },
  {
   "cell_type": "code",
   "execution_count": null,
   "metadata": {},
   "outputs": [],
   "source": [
    "shape = data1.shape\n",
    "shape"
   ]
  },
  {
   "cell_type": "code",
   "execution_count": 3,
   "metadata": {},
   "outputs": [
    {
     "data": {
      "text/plain": [
       "F1 intercolumnar distance                 float64\n",
       "F2 upper margin                           float64\n",
       "F3 lower margin                           float64\n",
       "F4 exploitation                           float64\n",
       "F5 row number                             float64\n",
       "F6 modular ratio                          float64\n",
       "F7 interlinear spacing                    float64\n",
       "F8 weight                                 float64\n",
       "F9 peak number                            float64\n",
       "F10 modular ratio/ interlinear spacing    float64\n",
       "type copyist                               object\n",
       "dtype: object"
      ]
     },
     "execution_count": 3,
     "metadata": {},
     "output_type": "execute_result"
    }
   ],
   "source": [
    "#tipo de datos\n",
    "data. dtypes"
   ]
  },
  {
   "cell_type": "code",
   "execution_count": 4,
   "metadata": {},
   "outputs": [
    {
     "data": {
      "text/html": [
       "<div>\n",
       "<style scoped>\n",
       "    .dataframe tbody tr th:only-of-type {\n",
       "        vertical-align: middle;\n",
       "    }\n",
       "\n",
       "    .dataframe tbody tr th {\n",
       "        vertical-align: top;\n",
       "    }\n",
       "\n",
       "    .dataframe thead th {\n",
       "        text-align: right;\n",
       "    }\n",
       "</style>\n",
       "<table border=\"1\" class=\"dataframe\">\n",
       "  <thead>\n",
       "    <tr style=\"text-align: right;\">\n",
       "      <th></th>\n",
       "      <th>F1 intercolumnar distance</th>\n",
       "      <th>F2 upper margin</th>\n",
       "      <th>F3 lower margin</th>\n",
       "      <th>F4 exploitation</th>\n",
       "      <th>F5 row number</th>\n",
       "      <th>F6 modular ratio</th>\n",
       "      <th>F7 interlinear spacing</th>\n",
       "      <th>F8 weight</th>\n",
       "      <th>F9 peak number</th>\n",
       "      <th>F10 modular ratio/ interlinear spacing</th>\n",
       "    </tr>\n",
       "  </thead>\n",
       "  <tbody>\n",
       "    <tr>\n",
       "      <th>count</th>\n",
       "      <td>2.086700e+04</td>\n",
       "      <td>20867.000000</td>\n",
       "      <td>20867.000000</td>\n",
       "      <td>20867.000000</td>\n",
       "      <td>2.086700e+04</td>\n",
       "      <td>20867.000000</td>\n",
       "      <td>20867.000000</td>\n",
       "      <td>20867.000000</td>\n",
       "      <td>20867.000000</td>\n",
       "      <td>20867.000000</td>\n",
       "    </tr>\n",
       "    <tr>\n",
       "      <th>mean</th>\n",
       "      <td>-3.306656e-09</td>\n",
       "      <td>0.018498</td>\n",
       "      <td>0.002329</td>\n",
       "      <td>0.000115</td>\n",
       "      <td>5.697992e-08</td>\n",
       "      <td>0.002540</td>\n",
       "      <td>0.003977</td>\n",
       "      <td>0.000028</td>\n",
       "      <td>0.002108</td>\n",
       "      <td>0.000069</td>\n",
       "    </tr>\n",
       "    <tr>\n",
       "      <th>std</th>\n",
       "      <td>1.000007e+00</td>\n",
       "      <td>2.853117</td>\n",
       "      <td>1.058203</td>\n",
       "      <td>0.999997</td>\n",
       "      <td>9.999948e-01</td>\n",
       "      <td>1.065179</td>\n",
       "      <td>1.153325</td>\n",
       "      <td>1.000003</td>\n",
       "      <td>1.045362</td>\n",
       "      <td>1.000010</td>\n",
       "    </tr>\n",
       "    <tr>\n",
       "      <th>min</th>\n",
       "      <td>-3.498799e+00</td>\n",
       "      <td>-2.426761</td>\n",
       "      <td>-3.210528</td>\n",
       "      <td>-5.440122</td>\n",
       "      <td>-4.922215e+00</td>\n",
       "      <td>-7.450257</td>\n",
       "      <td>-11.935457</td>\n",
       "      <td>-4.247781</td>\n",
       "      <td>-5.486218</td>\n",
       "      <td>-6.719324</td>\n",
       "    </tr>\n",
       "    <tr>\n",
       "      <th>25%</th>\n",
       "      <td>-1.289290e-01</td>\n",
       "      <td>-0.259834</td>\n",
       "      <td>0.064919</td>\n",
       "      <td>-0.527256</td>\n",
       "      <td>1.723400e-01</td>\n",
       "      <td>-0.598658</td>\n",
       "      <td>-0.044076</td>\n",
       "      <td>-0.543914</td>\n",
       "      <td>-0.372457</td>\n",
       "      <td>-0.515235</td>\n",
       "    </tr>\n",
       "    <tr>\n",
       "      <th>50%</th>\n",
       "      <td>5.622900e-02</td>\n",
       "      <td>-0.055704</td>\n",
       "      <td>0.217845</td>\n",
       "      <td>0.089437</td>\n",
       "      <td>2.617180e-01</td>\n",
       "      <td>-0.058835</td>\n",
       "      <td>0.220177</td>\n",
       "      <td>0.108279</td>\n",
       "      <td>0.064084</td>\n",
       "      <td>-0.025918</td>\n",
       "    </tr>\n",
       "    <tr>\n",
       "      <th>75%</th>\n",
       "      <td>2.043550e-01</td>\n",
       "      <td>0.203385</td>\n",
       "      <td>0.352988</td>\n",
       "      <td>0.643738</td>\n",
       "      <td>2.617180e-01</td>\n",
       "      <td>0.564038</td>\n",
       "      <td>0.446679</td>\n",
       "      <td>0.648813</td>\n",
       "      <td>0.500624</td>\n",
       "      <td>0.528425</td>\n",
       "    </tr>\n",
       "    <tr>\n",
       "      <th>max</th>\n",
       "      <td>1.181992e+01</td>\n",
       "      <td>386.000000</td>\n",
       "      <td>50.000000</td>\n",
       "      <td>3.987152</td>\n",
       "      <td>1.066121e+00</td>\n",
       "      <td>53.000000</td>\n",
       "      <td>83.000000</td>\n",
       "      <td>13.173081</td>\n",
       "      <td>44.000000</td>\n",
       "      <td>11.911338</td>\n",
       "    </tr>\n",
       "  </tbody>\n",
       "</table>\n",
       "</div>"
      ],
      "text/plain": [
       "       F1 intercolumnar distance  F2 upper margin  F3 lower margin  \\\n",
       "count               2.086700e+04     20867.000000     20867.000000   \n",
       "mean               -3.306656e-09         0.018498         0.002329   \n",
       "std                 1.000007e+00         2.853117         1.058203   \n",
       "min                -3.498799e+00        -2.426761        -3.210528   \n",
       "25%                -1.289290e-01        -0.259834         0.064919   \n",
       "50%                 5.622900e-02        -0.055704         0.217845   \n",
       "75%                 2.043550e-01         0.203385         0.352988   \n",
       "max                 1.181992e+01       386.000000        50.000000   \n",
       "\n",
       "       F4 exploitation  F5 row number  F6 modular ratio  \\\n",
       "count     20867.000000   2.086700e+04      20867.000000   \n",
       "mean          0.000115   5.697992e-08          0.002540   \n",
       "std           0.999997   9.999948e-01          1.065179   \n",
       "min          -5.440122  -4.922215e+00         -7.450257   \n",
       "25%          -0.527256   1.723400e-01         -0.598658   \n",
       "50%           0.089437   2.617180e-01         -0.058835   \n",
       "75%           0.643738   2.617180e-01          0.564038   \n",
       "max           3.987152   1.066121e+00         53.000000   \n",
       "\n",
       "       F7 interlinear spacing     F8 weight  F9 peak number  \\\n",
       "count            20867.000000  20867.000000    20867.000000   \n",
       "mean                 0.003977      0.000028        0.002108   \n",
       "std                  1.153325      1.000003        1.045362   \n",
       "min                -11.935457     -4.247781       -5.486218   \n",
       "25%                 -0.044076     -0.543914       -0.372457   \n",
       "50%                  0.220177      0.108279        0.064084   \n",
       "75%                  0.446679      0.648813        0.500624   \n",
       "max                 83.000000     13.173081       44.000000   \n",
       "\n",
       "       F10 modular ratio/ interlinear spacing  \n",
       "count                            20867.000000  \n",
       "mean                                 0.000069  \n",
       "std                                  1.000010  \n",
       "min                                 -6.719324  \n",
       "25%                                 -0.515235  \n",
       "50%                                 -0.025918  \n",
       "75%                                  0.528425  \n",
       "max                                 11.911338  "
      ]
     },
     "execution_count": 4,
     "metadata": {},
     "output_type": "execute_result"
    }
   ],
   "source": [
    "#Medidas de centralidad y desviación para atributos numéricos:\n",
    "data.describe()"
   ]
  },
  {
   "cell_type": "code",
   "execution_count": 5,
   "metadata": {},
   "outputs": [
    {
     "data": {
      "text/html": [
       "<div>\n",
       "<style scoped>\n",
       "    .dataframe tbody tr th:only-of-type {\n",
       "        vertical-align: middle;\n",
       "    }\n",
       "\n",
       "    .dataframe tbody tr th {\n",
       "        vertical-align: top;\n",
       "    }\n",
       "\n",
       "    .dataframe thead th {\n",
       "        text-align: right;\n",
       "    }\n",
       "</style>\n",
       "<table border=\"1\" class=\"dataframe\">\n",
       "  <thead>\n",
       "    <tr style=\"text-align: right;\">\n",
       "      <th></th>\n",
       "      <th>F1 intercolumnar distance</th>\n",
       "      <th>F2 upper margin</th>\n",
       "      <th>F3 lower margin</th>\n",
       "      <th>F4 exploitation</th>\n",
       "      <th>F5 row number</th>\n",
       "      <th>F6 modular ratio</th>\n",
       "      <th>F7 interlinear spacing</th>\n",
       "      <th>F8 weight</th>\n",
       "      <th>F9 peak number</th>\n",
       "      <th>F10 modular ratio/ interlinear spacing</th>\n",
       "      <th>type copyist</th>\n",
       "    </tr>\n",
       "  </thead>\n",
       "  <tbody>\n",
       "    <tr>\n",
       "      <th>0</th>\n",
       "      <td>-3.498799</td>\n",
       "      <td>-0.189174</td>\n",
       "      <td>-3.210528</td>\n",
       "      <td>-5.440122</td>\n",
       "      <td>0.261718</td>\n",
       "      <td>0.107265</td>\n",
       "      <td>0.295677</td>\n",
       "      <td>-0.24778</td>\n",
       "      <td>0.001721</td>\n",
       "      <td>-0.691759</td>\n",
       "      <td>A</td>\n",
       "    </tr>\n",
       "  </tbody>\n",
       "</table>\n",
       "</div>"
      ],
      "text/plain": [
       "   F1 intercolumnar distance  F2 upper margin  F3 lower margin  \\\n",
       "0                  -3.498799        -0.189174        -3.210528   \n",
       "\n",
       "   F4 exploitation  F5 row number  F6 modular ratio  F7 interlinear spacing  \\\n",
       "0        -5.440122       0.261718          0.107265                0.295677   \n",
       "\n",
       "   F8 weight  F9 peak number  F10 modular ratio/ interlinear spacing  \\\n",
       "0   -0.24778        0.001721                               -0.691759   \n",
       "\n",
       "  type copyist  \n",
       "0            A  "
      ]
     },
     "execution_count": 5,
     "metadata": {},
     "output_type": "execute_result"
    }
   ],
   "source": [
    "#Medidas de centralidad para atributos categóricos:\n",
    "data.mode()"
   ]
  },
  {
   "cell_type": "code",
   "execution_count": 6,
   "metadata": {},
   "outputs": [
    {
     "data": {
      "text/html": [
       "<div>\n",
       "<style scoped>\n",
       "    .dataframe tbody tr th:only-of-type {\n",
       "        vertical-align: middle;\n",
       "    }\n",
       "\n",
       "    .dataframe tbody tr th {\n",
       "        vertical-align: top;\n",
       "    }\n",
       "\n",
       "    .dataframe thead th {\n",
       "        text-align: right;\n",
       "    }\n",
       "</style>\n",
       "<table border=\"1\" class=\"dataframe\">\n",
       "  <thead>\n",
       "    <tr style=\"text-align: right;\">\n",
       "      <th></th>\n",
       "      <th>F1 intercolumnar distance</th>\n",
       "      <th>F2 upper margin</th>\n",
       "      <th>F3 lower margin</th>\n",
       "      <th>F4 exploitation</th>\n",
       "      <th>F5 row number</th>\n",
       "      <th>F6 modular ratio</th>\n",
       "      <th>F7 interlinear spacing</th>\n",
       "      <th>F8 weight</th>\n",
       "      <th>F9 peak number</th>\n",
       "      <th>F10 modular ratio/ interlinear spacing</th>\n",
       "    </tr>\n",
       "  </thead>\n",
       "  <tbody>\n",
       "    <tr>\n",
       "      <th>F1 intercolumnar distance</th>\n",
       "      <td>1.000000</td>\n",
       "      <td>-0.046363</td>\n",
       "      <td>0.036442</td>\n",
       "      <td>-0.057191</td>\n",
       "      <td>0.447930</td>\n",
       "      <td>-0.053406</td>\n",
       "      <td>-0.026103</td>\n",
       "      <td>-0.057518</td>\n",
       "      <td>0.081785</td>\n",
       "      <td>-0.013904</td>\n",
       "    </tr>\n",
       "    <tr>\n",
       "      <th>F2 upper margin</th>\n",
       "      <td>-0.046363</td>\n",
       "      <td>1.000000</td>\n",
       "      <td>0.300381</td>\n",
       "      <td>0.000425</td>\n",
       "      <td>-0.085892</td>\n",
       "      <td>0.296413</td>\n",
       "      <td>0.459383</td>\n",
       "      <td>0.040535</td>\n",
       "      <td>0.231004</td>\n",
       "      <td>-0.031986</td>\n",
       "    </tr>\n",
       "    <tr>\n",
       "      <th>F3 lower margin</th>\n",
       "      <td>0.036442</td>\n",
       "      <td>0.300381</td>\n",
       "      <td>1.000000</td>\n",
       "      <td>0.144168</td>\n",
       "      <td>0.011871</td>\n",
       "      <td>0.034247</td>\n",
       "      <td>0.185502</td>\n",
       "      <td>0.032930</td>\n",
       "      <td>0.120078</td>\n",
       "      <td>-0.057389</td>\n",
       "    </tr>\n",
       "    <tr>\n",
       "      <th>F4 exploitation</th>\n",
       "      <td>-0.057191</td>\n",
       "      <td>0.000425</td>\n",
       "      <td>0.144168</td>\n",
       "      <td>1.000000</td>\n",
       "      <td>0.096447</td>\n",
       "      <td>0.266778</td>\n",
       "      <td>0.043836</td>\n",
       "      <td>0.358603</td>\n",
       "      <td>0.294643</td>\n",
       "      <td>0.327626</td>\n",
       "    </tr>\n",
       "    <tr>\n",
       "      <th>F5 row number</th>\n",
       "      <td>0.447930</td>\n",
       "      <td>-0.085892</td>\n",
       "      <td>0.011871</td>\n",
       "      <td>0.096447</td>\n",
       "      <td>1.000000</td>\n",
       "      <td>0.041697</td>\n",
       "      <td>0.019832</td>\n",
       "      <td>-0.065375</td>\n",
       "      <td>0.286023</td>\n",
       "      <td>0.144194</td>\n",
       "    </tr>\n",
       "    <tr>\n",
       "      <th>F6 modular ratio</th>\n",
       "      <td>-0.053406</td>\n",
       "      <td>0.296413</td>\n",
       "      <td>0.034247</td>\n",
       "      <td>0.266778</td>\n",
       "      <td>0.041697</td>\n",
       "      <td>1.000000</td>\n",
       "      <td>0.395452</td>\n",
       "      <td>-0.043804</td>\n",
       "      <td>0.148651</td>\n",
       "      <td>0.806490</td>\n",
       "    </tr>\n",
       "    <tr>\n",
       "      <th>F7 interlinear spacing</th>\n",
       "      <td>-0.026103</td>\n",
       "      <td>0.459383</td>\n",
       "      <td>0.185502</td>\n",
       "      <td>0.043836</td>\n",
       "      <td>0.019832</td>\n",
       "      <td>0.395452</td>\n",
       "      <td>1.000000</td>\n",
       "      <td>0.015823</td>\n",
       "      <td>0.176611</td>\n",
       "      <td>0.274931</td>\n",
       "    </tr>\n",
       "    <tr>\n",
       "      <th>F8 weight</th>\n",
       "      <td>-0.057518</td>\n",
       "      <td>0.040535</td>\n",
       "      <td>0.032930</td>\n",
       "      <td>0.358603</td>\n",
       "      <td>-0.065375</td>\n",
       "      <td>-0.043804</td>\n",
       "      <td>0.015823</td>\n",
       "      <td>1.000000</td>\n",
       "      <td>0.519697</td>\n",
       "      <td>0.001312</td>\n",
       "    </tr>\n",
       "    <tr>\n",
       "      <th>F9 peak number</th>\n",
       "      <td>0.081785</td>\n",
       "      <td>0.231004</td>\n",
       "      <td>0.120078</td>\n",
       "      <td>0.294643</td>\n",
       "      <td>0.286023</td>\n",
       "      <td>0.148651</td>\n",
       "      <td>0.176611</td>\n",
       "      <td>0.519697</td>\n",
       "      <td>1.000000</td>\n",
       "      <td>0.192805</td>\n",
       "    </tr>\n",
       "    <tr>\n",
       "      <th>F10 modular ratio/ interlinear spacing</th>\n",
       "      <td>-0.013904</td>\n",
       "      <td>-0.031986</td>\n",
       "      <td>-0.057389</td>\n",
       "      <td>0.327626</td>\n",
       "      <td>0.144194</td>\n",
       "      <td>0.806490</td>\n",
       "      <td>0.274931</td>\n",
       "      <td>0.001312</td>\n",
       "      <td>0.192805</td>\n",
       "      <td>1.000000</td>\n",
       "    </tr>\n",
       "  </tbody>\n",
       "</table>\n",
       "</div>"
      ],
      "text/plain": [
       "                                        F1 intercolumnar distance  \\\n",
       "F1 intercolumnar distance                                1.000000   \n",
       "F2 upper margin                                         -0.046363   \n",
       "F3 lower margin                                          0.036442   \n",
       "F4 exploitation                                         -0.057191   \n",
       "F5 row number                                            0.447930   \n",
       "F6 modular ratio                                        -0.053406   \n",
       "F7 interlinear spacing                                  -0.026103   \n",
       "F8 weight                                               -0.057518   \n",
       "F9 peak number                                           0.081785   \n",
       "F10 modular ratio/ interlinear spacing                  -0.013904   \n",
       "\n",
       "                                        F2 upper margin  F3 lower margin  \\\n",
       "F1 intercolumnar distance                     -0.046363         0.036442   \n",
       "F2 upper margin                                1.000000         0.300381   \n",
       "F3 lower margin                                0.300381         1.000000   \n",
       "F4 exploitation                                0.000425         0.144168   \n",
       "F5 row number                                 -0.085892         0.011871   \n",
       "F6 modular ratio                               0.296413         0.034247   \n",
       "F7 interlinear spacing                         0.459383         0.185502   \n",
       "F8 weight                                      0.040535         0.032930   \n",
       "F9 peak number                                 0.231004         0.120078   \n",
       "F10 modular ratio/ interlinear spacing        -0.031986        -0.057389   \n",
       "\n",
       "                                        F4 exploitation  F5 row number  \\\n",
       "F1 intercolumnar distance                     -0.057191       0.447930   \n",
       "F2 upper margin                                0.000425      -0.085892   \n",
       "F3 lower margin                                0.144168       0.011871   \n",
       "F4 exploitation                                1.000000       0.096447   \n",
       "F5 row number                                  0.096447       1.000000   \n",
       "F6 modular ratio                               0.266778       0.041697   \n",
       "F7 interlinear spacing                         0.043836       0.019832   \n",
       "F8 weight                                      0.358603      -0.065375   \n",
       "F9 peak number                                 0.294643       0.286023   \n",
       "F10 modular ratio/ interlinear spacing         0.327626       0.144194   \n",
       "\n",
       "                                        F6 modular ratio  \\\n",
       "F1 intercolumnar distance                      -0.053406   \n",
       "F2 upper margin                                 0.296413   \n",
       "F3 lower margin                                 0.034247   \n",
       "F4 exploitation                                 0.266778   \n",
       "F5 row number                                   0.041697   \n",
       "F6 modular ratio                                1.000000   \n",
       "F7 interlinear spacing                          0.395452   \n",
       "F8 weight                                      -0.043804   \n",
       "F9 peak number                                  0.148651   \n",
       "F10 modular ratio/ interlinear spacing          0.806490   \n",
       "\n",
       "                                        F7 interlinear spacing  F8 weight  \\\n",
       "F1 intercolumnar distance                            -0.026103  -0.057518   \n",
       "F2 upper margin                                       0.459383   0.040535   \n",
       "F3 lower margin                                       0.185502   0.032930   \n",
       "F4 exploitation                                       0.043836   0.358603   \n",
       "F5 row number                                         0.019832  -0.065375   \n",
       "F6 modular ratio                                      0.395452  -0.043804   \n",
       "F7 interlinear spacing                                1.000000   0.015823   \n",
       "F8 weight                                             0.015823   1.000000   \n",
       "F9 peak number                                        0.176611   0.519697   \n",
       "F10 modular ratio/ interlinear spacing                0.274931   0.001312   \n",
       "\n",
       "                                        F9 peak number  \\\n",
       "F1 intercolumnar distance                     0.081785   \n",
       "F2 upper margin                               0.231004   \n",
       "F3 lower margin                               0.120078   \n",
       "F4 exploitation                               0.294643   \n",
       "F5 row number                                 0.286023   \n",
       "F6 modular ratio                              0.148651   \n",
       "F7 interlinear spacing                        0.176611   \n",
       "F8 weight                                     0.519697   \n",
       "F9 peak number                                1.000000   \n",
       "F10 modular ratio/ interlinear spacing        0.192805   \n",
       "\n",
       "                                        F10 modular ratio/ interlinear spacing  \n",
       "F1 intercolumnar distance                                            -0.013904  \n",
       "F2 upper margin                                                      -0.031986  \n",
       "F3 lower margin                                                      -0.057389  \n",
       "F4 exploitation                                                       0.327626  \n",
       "F5 row number                                                         0.144194  \n",
       "F6 modular ratio                                                      0.806490  \n",
       "F7 interlinear spacing                                                0.274931  \n",
       "F8 weight                                                             0.001312  \n",
       "F9 peak number                                                        0.192805  \n",
       "F10 modular ratio/ interlinear spacing                                1.000000  "
      ]
     },
     "execution_count": 6,
     "metadata": {},
     "output_type": "execute_result"
    }
   ],
   "source": [
    "#matriz de correlación\n",
    "data.corr()"
   ]
  },
  {
   "cell_type": "code",
   "execution_count": 7,
   "metadata": {},
   "outputs": [
    {
     "data": {
      "text/plain": [
       "<matplotlib.axes._subplots.AxesSubplot at 0x7f39854acb90>"
      ]
     },
     "execution_count": 7,
     "metadata": {},
     "output_type": "execute_result"
    },
    {
     "data": {
      "image/png": "[encoded data removed]",
      "text/plain": [
       "<Figure size 432x288 with 2 Axes>"
      ]
     },
     "metadata": {
      "needs_background": "light"
     },
     "output_type": "display_data"
    }
   ],
   "source": [
    "sns.heatmap(data.corr(), square=True, annot=True)"
   ]
  },
  {
   "cell_type": "code",
   "execution_count": 8,
   "metadata": {},
   "outputs": [],
   "source": [
    "#Verificar la matriz de correlación \n",
    "\n",
    "def correlation(dataset, threshold):\n",
    "    col_corr = set() # Set of all the names of deleted columns\n",
    "    corr_matrix = dataset.corr()\n",
    "    for i in range(len(corr_matrix.columns)):\n",
    "        for j in range(i):\n",
    "            if (corr_matrix.iloc[i, j] >= threshold) and (corr_matrix.columns[j] not in col_corr):\n",
    "                print('Las columnas que presentan una alta correlación son:', corr_matrix.columns[i], corr_matrix.columns[j])\n",
    "    return dataset\n",
    "\n",
    "data = correlation(data,0.90)"
   ]
  },
  {
   "cell_type": "code",
   "execution_count": 9,
   "metadata": {},
   "outputs": [
    {
     "data": {
      "text/plain": [
       "0"
      ]
     },
     "execution_count": 9,
     "metadata": {},
     "output_type": "execute_result"
    }
   ],
   "source": [
    "# Cual es el máximo de datos faltantes en un mismo registro?\n",
    "max(data.isnull().sum(axis=1))"
   ]
  },
  {
   "cell_type": "code",
   "execution_count": 10,
   "metadata": {},
   "outputs": [
    {
     "data": {
      "image/png": "[encoded data removed]",
      "text/plain": [
       "<Figure size 432x288 with 1 Axes>"
      ]
     },
     "metadata": {
      "needs_background": "light"
     },
     "output_type": "display_data"
    },
    {
     "data": {
      "image/png": "[encoded data removed]",
      "text/plain": [
       "<Figure size 432x288 with 1 Axes>"
      ]
     },
     "metadata": {
      "needs_background": "light"
     },
     "output_type": "display_data"
    },
    {
     "data": {
      "image/png": "[encoded data removed]",
      "text/plain": [
       "<Figure size 432x288 with 1 Axes>"
      ]
     },
     "metadata": {
      "needs_background": "light"
     },
     "output_type": "display_data"
    },
    {
     "data": {
      "image/png": "[encoded data removed]",
      "text/plain": [
       "<Figure size 432x288 with 1 Axes>"
      ]
     },
     "metadata": {
      "needs_background": "light"
     },
     "output_type": "display_data"
    },
    {
     "data": {
      "image/png": "[encoded data removed]",
      "text/plain": [
       "<Figure size 432x288 with 1 Axes>"
      ]
     },
     "metadata": {
      "needs_background": "light"
     },
     "output_type": "display_data"
    },
    {
     "data": {
      "image/png": "[encoded data removed]",
      "text/plain": [
       "<Figure size 432x288 with 1 Axes>"
      ]
     },
     "metadata": {
      "needs_background": "light"
     },
     "output_type": "display_data"
    },
    {
     "data": {
      "image/png": "[encoded data removed]",
      "text/plain": [
       "<Figure size 432x288 with 1 Axes>"
      ]
     },
     "metadata": {
      "needs_background": "light"
     },
     "output_type": "display_data"
    },
    {
     "data": {
      "image/png": "[encoded data removed]",
      "text/plain": [
       "<Figure size 432x288 with 1 Axes>"
      ]
     },
     "metadata": {
      "needs_background": "light"
     },
     "output_type": "display_data"
    },
    {
     "data": {
      "image/png": "[encoded data removed]",
      "text/plain": [
       "<Figure size 432x288 with 1 Axes>"
      ]
     },
     "metadata": {
      "needs_background": "light"
     },
     "output_type": "display_data"
    },
    {
     "data": {
      "image/png": "[encoded data removed]",
      "text/plain": [
       "<Figure size 432x288 with 1 Axes>"
      ]
     },
     "metadata": {
      "needs_background": "light"
     },
     "output_type": "display_data"
    }
   ],
   "source": [
    "#En qué atributos hay datos atípicos?\n",
    "plt.boxplot(data['F1 intercolumnar distance'])\n",
    "plt.show()\n",
    "plt.boxplot(data['F2 upper margin'])\n",
    "plt.show()\n",
    "plt.boxplot(data['F3 lower margin'])\n",
    "plt.show()\n",
    "plt.boxplot(data['F4 exploitation'])\n",
    "plt.show()\n",
    "plt.boxplot(data['F5 row number'])\n",
    "plt.show()\n",
    "plt.boxplot(data['F6 modular ratio'])\n",
    "plt.show()\n",
    "plt.boxplot(data['F7 interlinear spacing'])\n",
    "plt.show()\n",
    "plt.boxplot(data['F8 weight'])\n",
    "plt.show()\n",
    "plt.boxplot(data['F9 peak number'])\n",
    "plt.show()\n",
    "plt.boxplot(data['F10 modular ratio/ interlinear spacing'])\n",
    "plt.show()\n"
   ]
  },
  {
   "cell_type": "code",
   "execution_count": 11,
   "metadata": {},
   "outputs": [
    {
     "name": "stdout",
     "output_type": "stream",
     "text": [
      "A    8572\n",
      "F    3923\n",
      "E    2190\n",
      "I    1663\n",
      "X    1044\n",
      "H    1039\n",
      "G     893\n",
      "D     705\n",
      "Y     533\n",
      "C     206\n",
      "W      89\n",
      "B      10\n",
      "Name: type copyist, dtype: int64\n"
     ]
    },
    {
     "data": {
      "image/png": "[encoded data removed]",
      "text/plain": [
       "<Figure size 432x288 with 1 Axes>"
      ]
     },
     "metadata": {
      "needs_background": "light"
     },
     "output_type": "display_data"
    }
   ],
   "source": [
    "#Cuantos registros hay por cada clase? es decir, por cada valor del atributo de salida?\n",
    "clasificar = data['type copyist'].value_counts()\n",
    "print(clasificar)\n",
    "clasificar.plot(kind='bar');"
   ]
  },
  {
   "cell_type": "raw",
   "metadata": {},
   "source": [
    "PLAN DE AJUSTE\n",
    "\n",
    "    - Transformar el atributo categórico(type copyist) a atributo númerico.\n",
    "    \n",
    "    - Calcular una vez más la correlación entre los atributos para definir si es necesario eliminar un atributo.\n",
    "    \n",
    "    - Generar conjuntos de datos de igual cantidad con el fin de obtener una cantidad de registros iguales para         todos los tipos de clases,para ello se eliminarán algunos registros, mientras que otros pertenecientes a           otras clases se duplicarán"
   ]
  },
  {
   "cell_type": "code",
   "execution_count": 12,
   "metadata": {},
   "outputs": [
    {
     "data": {
      "text/plain": [
       "F1 intercolumnar distance                 float64\n",
       "F2 upper margin                           float64\n",
       "F3 lower margin                           float64\n",
       "F4 exploitation                           float64\n",
       "F5 row number                             float64\n",
       "F6 modular ratio                          float64\n",
       "F7 interlinear spacing                    float64\n",
       "F8 weight                                 float64\n",
       "F9 peak number                            float64\n",
       "F10 modular ratio/ interlinear spacing    float64\n",
       "type copyist                                int64\n",
       "dtype: object"
      ]
     },
     "execution_count": 12,
     "metadata": {},
     "output_type": "execute_result"
    }
   ],
   "source": [
    "#Transformar el atributo categórico(type copyist) a atributo númerico.\n",
    "\n",
    "labelencoder= LabelEncoder() #initializing an object of class LabelEncoder\n",
    "data['type copyist'] = labelencoder.fit_transform(data['type copyist'])\n",
    "data. dtypes\n"
   ]
  },
  {
   "cell_type": "code",
   "execution_count": 13,
   "metadata": {},
   "outputs": [
    {
     "data": {
      "text/html": [
       "<div>\n",
       "<style scoped>\n",
       "    .dataframe tbody tr th:only-of-type {\n",
       "        vertical-align: middle;\n",
       "    }\n",
       "\n",
       "    .dataframe tbody tr th {\n",
       "        vertical-align: top;\n",
       "    }\n",
       "\n",
       "    .dataframe thead th {\n",
       "        text-align: right;\n",
       "    }\n",
       "</style>\n",
       "<table border=\"1\" class=\"dataframe\">\n",
       "  <thead>\n",
       "    <tr style=\"text-align: right;\">\n",
       "      <th></th>\n",
       "      <th>F1 intercolumnar distance</th>\n",
       "      <th>F2 upper margin</th>\n",
       "      <th>F3 lower margin</th>\n",
       "      <th>F4 exploitation</th>\n",
       "      <th>F5 row number</th>\n",
       "      <th>F6 modular ratio</th>\n",
       "      <th>F7 interlinear spacing</th>\n",
       "      <th>F8 weight</th>\n",
       "      <th>F9 peak number</th>\n",
       "      <th>F10 modular ratio/ interlinear spacing</th>\n",
       "      <th>type copyist</th>\n",
       "    </tr>\n",
       "  </thead>\n",
       "  <tbody>\n",
       "    <tr>\n",
       "      <th>F1 intercolumnar distance</th>\n",
       "      <td>1.000000</td>\n",
       "      <td>-0.046363</td>\n",
       "      <td>0.036442</td>\n",
       "      <td>-0.057191</td>\n",
       "      <td>0.447930</td>\n",
       "      <td>-0.053406</td>\n",
       "      <td>-0.026103</td>\n",
       "      <td>-0.057518</td>\n",
       "      <td>0.081785</td>\n",
       "      <td>-0.013904</td>\n",
       "      <td>0.030998</td>\n",
       "    </tr>\n",
       "    <tr>\n",
       "      <th>F2 upper margin</th>\n",
       "      <td>-0.046363</td>\n",
       "      <td>1.000000</td>\n",
       "      <td>0.300381</td>\n",
       "      <td>0.000425</td>\n",
       "      <td>-0.085892</td>\n",
       "      <td>0.296413</td>\n",
       "      <td>0.459383</td>\n",
       "      <td>0.040535</td>\n",
       "      <td>0.231004</td>\n",
       "      <td>-0.031986</td>\n",
       "      <td>-0.023151</td>\n",
       "    </tr>\n",
       "    <tr>\n",
       "      <th>F3 lower margin</th>\n",
       "      <td>0.036442</td>\n",
       "      <td>0.300381</td>\n",
       "      <td>1.000000</td>\n",
       "      <td>0.144168</td>\n",
       "      <td>0.011871</td>\n",
       "      <td>0.034247</td>\n",
       "      <td>0.185502</td>\n",
       "      <td>0.032930</td>\n",
       "      <td>0.120078</td>\n",
       "      <td>-0.057389</td>\n",
       "      <td>0.066774</td>\n",
       "    </tr>\n",
       "    <tr>\n",
       "      <th>F4 exploitation</th>\n",
       "      <td>-0.057191</td>\n",
       "      <td>0.000425</td>\n",
       "      <td>0.144168</td>\n",
       "      <td>1.000000</td>\n",
       "      <td>0.096447</td>\n",
       "      <td>0.266778</td>\n",
       "      <td>0.043836</td>\n",
       "      <td>0.358603</td>\n",
       "      <td>0.294643</td>\n",
       "      <td>0.327626</td>\n",
       "      <td>0.110210</td>\n",
       "    </tr>\n",
       "    <tr>\n",
       "      <th>F5 row number</th>\n",
       "      <td>0.447930</td>\n",
       "      <td>-0.085892</td>\n",
       "      <td>0.011871</td>\n",
       "      <td>0.096447</td>\n",
       "      <td>1.000000</td>\n",
       "      <td>0.041697</td>\n",
       "      <td>0.019832</td>\n",
       "      <td>-0.065375</td>\n",
       "      <td>0.286023</td>\n",
       "      <td>0.144194</td>\n",
       "      <td>0.167362</td>\n",
       "    </tr>\n",
       "    <tr>\n",
       "      <th>F6 modular ratio</th>\n",
       "      <td>-0.053406</td>\n",
       "      <td>0.296413</td>\n",
       "      <td>0.034247</td>\n",
       "      <td>0.266778</td>\n",
       "      <td>0.041697</td>\n",
       "      <td>1.000000</td>\n",
       "      <td>0.395452</td>\n",
       "      <td>-0.043804</td>\n",
       "      <td>0.148651</td>\n",
       "      <td>0.806490</td>\n",
       "      <td>-0.151767</td>\n",
       "    </tr>\n",
       "    <tr>\n",
       "      <th>F7 interlinear spacing</th>\n",
       "      <td>-0.026103</td>\n",
       "      <td>0.459383</td>\n",
       "      <td>0.185502</td>\n",
       "      <td>0.043836</td>\n",
       "      <td>0.019832</td>\n",
       "      <td>0.395452</td>\n",
       "      <td>1.000000</td>\n",
       "      <td>0.015823</td>\n",
       "      <td>0.176611</td>\n",
       "      <td>0.274931</td>\n",
       "      <td>-0.185528</td>\n",
       "    </tr>\n",
       "    <tr>\n",
       "      <th>F8 weight</th>\n",
       "      <td>-0.057518</td>\n",
       "      <td>0.040535</td>\n",
       "      <td>0.032930</td>\n",
       "      <td>0.358603</td>\n",
       "      <td>-0.065375</td>\n",
       "      <td>-0.043804</td>\n",
       "      <td>0.015823</td>\n",
       "      <td>1.000000</td>\n",
       "      <td>0.519697</td>\n",
       "      <td>0.001312</td>\n",
       "      <td>0.064089</td>\n",
       "    </tr>\n",
       "    <tr>\n",
       "      <th>F9 peak number</th>\n",
       "      <td>0.081785</td>\n",
       "      <td>0.231004</td>\n",
       "      <td>0.120078</td>\n",
       "      <td>0.294643</td>\n",
       "      <td>0.286023</td>\n",
       "      <td>0.148651</td>\n",
       "      <td>0.176611</td>\n",
       "      <td>0.519697</td>\n",
       "      <td>1.000000</td>\n",
       "      <td>0.192805</td>\n",
       "      <td>0.350176</td>\n",
       "    </tr>\n",
       "    <tr>\n",
       "      <th>F10 modular ratio/ interlinear spacing</th>\n",
       "      <td>-0.013904</td>\n",
       "      <td>-0.031986</td>\n",
       "      <td>-0.057389</td>\n",
       "      <td>0.327626</td>\n",
       "      <td>0.144194</td>\n",
       "      <td>0.806490</td>\n",
       "      <td>0.274931</td>\n",
       "      <td>0.001312</td>\n",
       "      <td>0.192805</td>\n",
       "      <td>1.000000</td>\n",
       "      <td>0.030297</td>\n",
       "    </tr>\n",
       "    <tr>\n",
       "      <th>type copyist</th>\n",
       "      <td>0.030998</td>\n",
       "      <td>-0.023151</td>\n",
       "      <td>0.066774</td>\n",
       "      <td>0.110210</td>\n",
       "      <td>0.167362</td>\n",
       "      <td>-0.151767</td>\n",
       "      <td>-0.185528</td>\n",
       "      <td>0.064089</td>\n",
       "      <td>0.350176</td>\n",
       "      <td>0.030297</td>\n",
       "      <td>1.000000</td>\n",
       "    </tr>\n",
       "  </tbody>\n",
       "</table>\n",
       "</div>"
      ],
      "text/plain": [
       "                                        F1 intercolumnar distance  \\\n",
       "F1 intercolumnar distance                                1.000000   \n",
       "F2 upper margin                                         -0.046363   \n",
       "F3 lower margin                                          0.036442   \n",
       "F4 exploitation                                         -0.057191   \n",
       "F5 row number                                            0.447930   \n",
       "F6 modular ratio                                        -0.053406   \n",
       "F7 interlinear spacing                                  -0.026103   \n",
       "F8 weight                                               -0.057518   \n",
       "F9 peak number                                           0.081785   \n",
       "F10 modular ratio/ interlinear spacing                  -0.013904   \n",
       "type copyist                                             0.030998   \n",
       "\n",
       "                                        F2 upper margin  F3 lower margin  \\\n",
       "F1 intercolumnar distance                     -0.046363         0.036442   \n",
       "F2 upper margin                                1.000000         0.300381   \n",
       "F3 lower margin                                0.300381         1.000000   \n",
       "F4 exploitation                                0.000425         0.144168   \n",
       "F5 row number                                 -0.085892         0.011871   \n",
       "F6 modular ratio                               0.296413         0.034247   \n",
       "F7 interlinear spacing                         0.459383         0.185502   \n",
       "F8 weight                                      0.040535         0.032930   \n",
       "F9 peak number                                 0.231004         0.120078   \n",
       "F10 modular ratio/ interlinear spacing        -0.031986        -0.057389   \n",
       "type copyist                                  -0.023151         0.066774   \n",
       "\n",
       "                                        F4 exploitation  F5 row number  \\\n",
       "F1 intercolumnar distance                     -0.057191       0.447930   \n",
       "F2 upper margin                                0.000425      -0.085892   \n",
       "F3 lower margin                                0.144168       0.011871   \n",
       "F4 exploitation                                1.000000       0.096447   \n",
       "F5 row number                                  0.096447       1.000000   \n",
       "F6 modular ratio                               0.266778       0.041697   \n",
       "F7 interlinear spacing                         0.043836       0.019832   \n",
       "F8 weight                                      0.358603      -0.065375   \n",
       "F9 peak number                                 0.294643       0.286023   \n",
       "F10 modular ratio/ interlinear spacing         0.327626       0.144194   \n",
       "type copyist                                   0.110210       0.167362   \n",
       "\n",
       "                                        F6 modular ratio  \\\n",
       "F1 intercolumnar distance                      -0.053406   \n",
       "F2 upper margin                                 0.296413   \n",
       "F3 lower margin                                 0.034247   \n",
       "F4 exploitation                                 0.266778   \n",
       "F5 row number                                   0.041697   \n",
       "F6 modular ratio                                1.000000   \n",
       "F7 interlinear spacing                          0.395452   \n",
       "F8 weight                                      -0.043804   \n",
       "F9 peak number                                  0.148651   \n",
       "F10 modular ratio/ interlinear spacing          0.806490   \n",
       "type copyist                                   -0.151767   \n",
       "\n",
       "                                        F7 interlinear spacing  F8 weight  \\\n",
       "F1 intercolumnar distance                            -0.026103  -0.057518   \n",
       "F2 upper margin                                       0.459383   0.040535   \n",
       "F3 lower margin                                       0.185502   0.032930   \n",
       "F4 exploitation                                       0.043836   0.358603   \n",
       "F5 row number                                         0.019832  -0.065375   \n",
       "F6 modular ratio                                      0.395452  -0.043804   \n",
       "F7 interlinear spacing                                1.000000   0.015823   \n",
       "F8 weight                                             0.015823   1.000000   \n",
       "F9 peak number                                        0.176611   0.519697   \n",
       "F10 modular ratio/ interlinear spacing                0.274931   0.001312   \n",
       "type copyist                                         -0.185528   0.064089   \n",
       "\n",
       "                                        F9 peak number  \\\n",
       "F1 intercolumnar distance                     0.081785   \n",
       "F2 upper margin                               0.231004   \n",
       "F3 lower margin                               0.120078   \n",
       "F4 exploitation                               0.294643   \n",
       "F5 row number                                 0.286023   \n",
       "F6 modular ratio                              0.148651   \n",
       "F7 interlinear spacing                        0.176611   \n",
       "F8 weight                                     0.519697   \n",
       "F9 peak number                                1.000000   \n",
       "F10 modular ratio/ interlinear spacing        0.192805   \n",
       "type copyist                                  0.350176   \n",
       "\n",
       "                                        F10 modular ratio/ interlinear spacing  \\\n",
       "F1 intercolumnar distance                                            -0.013904   \n",
       "F2 upper margin                                                      -0.031986   \n",
       "F3 lower margin                                                      -0.057389   \n",
       "F4 exploitation                                                       0.327626   \n",
       "F5 row number                                                         0.144194   \n",
       "F6 modular ratio                                                      0.806490   \n",
       "F7 interlinear spacing                                                0.274931   \n",
       "F8 weight                                                             0.001312   \n",
       "F9 peak number                                                        0.192805   \n",
       "F10 modular ratio/ interlinear spacing                                1.000000   \n",
       "type copyist                                                          0.030297   \n",
       "\n",
       "                                        type copyist  \n",
       "F1 intercolumnar distance                   0.030998  \n",
       "F2 upper margin                            -0.023151  \n",
       "F3 lower margin                             0.066774  \n",
       "F4 exploitation                             0.110210  \n",
       "F5 row number                               0.167362  \n",
       "F6 modular ratio                           -0.151767  \n",
       "F7 interlinear spacing                     -0.185528  \n",
       "F8 weight                                   0.064089  \n",
       "F9 peak number                              0.350176  \n",
       "F10 modular ratio/ interlinear spacing      0.030297  \n",
       "type copyist                                1.000000  "
      ]
     },
     "execution_count": 13,
     "metadata": {},
     "output_type": "execute_result"
    }
   ],
   "source": [
    "#Calcular una vez más la correlación entre los atributos para definir si es necesario eliminar un atributo.\n",
    "data.corr()"
   ]
  },
  {
   "cell_type": "code",
   "execution_count": 14,
   "metadata": {},
   "outputs": [
    {
     "data": {
      "text/plain": [
       "<matplotlib.axes._subplots.AxesSubplot at 0x7f39804dbb10>"
      ]
     },
     "execution_count": 14,
     "metadata": {},
     "output_type": "execute_result"
    },
    {
     "data": {
      "image/png": "[encoded data removed]",
      "text/plain": [
       "<Figure size 432x288 with 2 Axes>"
      ]
     },
     "metadata": {
      "needs_background": "light"
     },
     "output_type": "display_data"
    }
   ],
   "source": [
    "sns.heatmap(data.corr(), square=True, annot=True)"
   ]
  },
  {
   "cell_type": "code",
   "execution_count": 15,
   "metadata": {},
   "outputs": [],
   "source": [
    "#Verificar la matriz de correlación \n",
    "\n",
    "def correlation(dataset, threshold):\n",
    "    col_corr = set() # Set of all the names of deleted columns\n",
    "    corr_matrix = dataset.corr()\n",
    "    for i in range(len(corr_matrix.columns)):\n",
    "        for j in range(i):\n",
    "            if (corr_matrix.iloc[i, j] >= threshold) and (corr_matrix.columns[j] not in col_corr):\n",
    "                print('Las columnas que presentan una alta correlación son:', corr_matrix.columns[i], corr_matrix.columns[j])\n",
    "    return dataset\n",
    "\n",
    "data = correlation(data,0.90)"
   ]
  },
  {
   "cell_type": "code",
   "execution_count": 16,
   "metadata": {},
   "outputs": [
    {
     "name": "stdout",
     "output_type": "stream",
     "text": [
      "11    400\n",
      "7     400\n",
      "3     400\n",
      "10    400\n",
      "6     400\n",
      "2     400\n",
      "9     400\n",
      "5     400\n",
      "1     400\n",
      "8     400\n",
      "4     400\n",
      "0     400\n",
      "Name: type copyist, dtype: int64\n"
     ]
    },
    {
     "data": {
      "image/png": "[encoded data removed]",
      "text/plain": [
       "<Figure size 432x288 with 1 Axes>"
      ]
     },
     "metadata": {
      "needs_background": "light"
     },
     "output_type": "display_data"
    }
   ],
   "source": [
    "#Generar conjuntos de datos de igual cantidad con el fin de obtener una cantidad de registros iguales para \n",
    "#todos los tipos de clases,para ello se eliminarán algunos registros, mientras que otros pertenecientes a \n",
    "#otras clases se duplicarán.\n",
    "\n",
    "#Primero se aumentaran la cantidad de registros pertenecientes a las clases que tienen menos de 1000 registros \n",
    "max_size = 400\n",
    "lst = [data]\n",
    "\n",
    "for class_index, group in data.groupby('type copyist'):\n",
    "    if len(group) <= 206:\n",
    "        lst.append(group.sample(max_size - len(group),replace=True))\n",
    "    \n",
    "dataBal = pd.concat(lst)\n",
    "\n",
    "#Ahora las clases que tengan más de 1000 registros, eliminarán ciertos registros para que todos tengan 1000\n",
    "g = dataBal.groupby('type copyist')\n",
    "dataBal = pd.DataFrame(g.apply(lambda x: x.sample(g.size().min()).reset_index(drop=True)))\n",
    "\n",
    "#Cuantos registros hay por cada clase? es decir, por cada valor del atributo de salida?\n",
    "clasificar = dataBal['type copyist'].value_counts()\n",
    "print(clasificar)\n",
    "clasificar.plot(kind='bar');"
   ]
  },
  {
   "cell_type": "code",
   "execution_count": 17,
   "metadata": {},
   "outputs": [],
   "source": [
    "from sklearn.neural_network import MLPClassifier\n",
    "from sklearn.model_selection import GridSearchCV\n",
    "from sklearn.metrics import confusion_matrix \n",
    "from sklearn.metrics import precision_score\n",
    "from sklearn.metrics import recall_score\n",
    "from sklearn.metrics import f1_score\n",
    "from sklearn.metrics import accuracy_score\n",
    "from sklearn.metrics import classification_report\n",
    "from sklearn.svm import SVC\n",
    "import statistics"
   ]
  },
  {
   "cell_type": "code",
   "execution_count": 95,
   "metadata": {},
   "outputs": [
    {
     "name": "stdout",
     "output_type": "stream",
     "text": [
      "0 iteración\n",
      "parámetro seleccionado:  {'activation': 'logistic', 'hidden_layer_sizes': 50}\n",
      "1 iteración\n",
      "parámetro seleccionado:  {'activation': 'tanh', 'hidden_layer_sizes': 50}\n",
      "2 iteración\n",
      "parámetro seleccionado:  {'activation': 'tanh', 'hidden_layer_sizes': 50}\n",
      "3 iteración\n",
      "parámetro seleccionado:  {'activation': 'logistic', 'hidden_layer_sizes': 50}\n",
      "4 iteración\n",
      "parámetro seleccionado:  {'activation': 'logistic', 'hidden_layer_sizes': 50}\n",
      "5 iteración\n",
      "parámetro seleccionado:  {'activation': 'logistic', 'hidden_layer_sizes': 50}\n",
      "6 iteración\n",
      "parámetro seleccionado:  {'activation': 'logistic', 'hidden_layer_sizes': 50}\n",
      "7 iteración\n",
      "parámetro seleccionado:  {'activation': 'logistic', 'hidden_layer_sizes': 50}\n",
      "8 iteración\n",
      "parámetro seleccionado:  {'activation': 'logistic', 'hidden_layer_sizes': 50}\n",
      "9 iteración\n",
      "parámetro seleccionado:  {'activation': 'tanh', 'hidden_layer_sizes': 50}\n",
      "Reporte del Holdout\n",
      "\n",
      "Medidas de Perceptrón multicapa\n",
      "Medias de precision, recall, f1score y accuracy: 0.8647916666666666 0.8647916666666666 0.8647916666666666 0.8647916666666666\n",
      "Desviaciones de precision, recall, f1score y accuracy: 0.009679344934663584 0.009679344934663584 0.009679344934663561 0.009679344934663584\n",
      "\n",
      "Medidas de vectores de soporte\n",
      "Medias de precision, recall, f1score y accuracy: 0.6995312499999999 0.6995312499999999 0.6995312499999999 0.6995312499999999\n",
      "Desviaciones de precision, recall,f1score y accuracy: 0.011422634836702696 0.011422634836702696 0.011422634836702706 0.011422634836702696\n",
      "\n"
     ]
    }
   ],
   "source": [
    "#PRIMERA ITERACIÓN\n",
    "HOLDOUT = 10\n",
    "\n",
    "h_precisionP = []\n",
    "h_recallP = []\n",
    "h_f1scoreP = []\n",
    "h_accuracyP = []\n",
    "h_precisionM = []\n",
    "h_recallM = []\n",
    "h_f1scoreM = []\n",
    "h_accuracyM = []\n",
    "\n",
    "for i in range(HOLDOUT):\n",
    "    print(i,'iteración')\n",
    "    X_train, X_test, y_train, y_test = train_test_split(dataBal.drop(['type copyist'],axis=1), dataBal['type copyist'], test_size=0.4)\n",
    "    # Se crea el clasificador base\n",
    "    mlp = MLPClassifier(max_iter=5000)\n",
    "    parameter_space = {\n",
    "        'hidden_layer_sizes': [(5), (10), (50)],\n",
    "        'activation': ['logistic', 'tanh', 'relu'],\n",
    "    }\n",
    "    #se selecciona el mejor numero de capas, nodos, y funcion de activación\n",
    "    clf = GridSearchCV(mlp, parameter_space, n_jobs=-1, cv=3, refit=True)\n",
    "    clf.fit(X_train,y_train)\n",
    "    print('parámetro seleccionado: ',clf.best_params_)\n",
    "    # Se hace la prediccion sobre los datos de prueba\n",
    "    pred = clf.predict(X_test)\n",
    "    # Se calculan metricas a partir de los datos de prueba\n",
    "    mat = confusion_matrix(y_test, pred)\n",
    "    #print('Esta es la matriz de perceptrón multicapa', mat)\n",
    "    #print(\"Precision:\",precision_score(y_test,pred))\n",
    "    #print(\"Recall:\",recall_score(y_test,pred))\n",
    "    #print(\"F1score:\",f1_score(y_test,pred))\n",
    "    h_precisionP.append(precision_score(y_test,pred,average = 'micro'))\n",
    "    h_recallP.append(recall_score(y_test,pred,average = 'micro'))\n",
    "    h_f1scoreP.append(f1_score(y_test,pred,average = 'micro'))\n",
    "    h_accuracyP.append(accuracy_score(y_test,pred))\n",
    " \n",
    "    #modelo SVC\n",
    "    modeloSVC = SVC()\n",
    "    #Se entrena el modeloSVC\n",
    "    modeloSVC.fit(X_train, y_train)\n",
    "    #Se hace la predicción\n",
    "    y_pred = modeloSVC.predict(X_test)\n",
    "    \n",
    "    mat2 = confusion_matrix(y_test, y_pred)\n",
    "    #print('matriz de máquinas de vectores de soporte', mat2)\n",
    "    # Se calculan metricas a partir de los datos de prueba\n",
    "    matriz = confusion_matrix(y_test, y_pred)\n",
    "    h_precisionM.append(precision_score(y_test,y_pred,average = 'micro'))\n",
    "    h_recallM.append(recall_score(y_test,y_pred,average = 'micro'))\n",
    "    h_f1scoreM.append(f1_score(y_test,y_pred,average = 'micro'))\n",
    "    h_accuracyM.append(accuracy_score(y_test,y_pred))\n",
    "    \n",
    "print(\"Reporte del Holdout\\n\")\n",
    "\n",
    "print(\"Medidas de Perceptrón multicapa\")\n",
    "print(\"Medias de precision, recall, f1score y accuracy:\",statistics.mean(h_precisionP),statistics.mean(h_recallP),statistics.mean(h_f1scoreP),statistics.mean(h_accuracyP))\n",
    "print(\"Desviaciones de precision, recall, f1score y accuracy:\",statistics.stdev(h_precisionP),statistics.stdev(h_recallP),statistics.stdev(h_f1scoreP),statistics.stdev(h_accuracyP))\n",
    "print(\"\")\n",
    "  \n",
    "print(\"Medidas de vectores de soporte\")\n",
    "print(\"Medias de precision, recall, f1score y accuracy:\",statistics.mean(h_precisionM),statistics.mean(h_recallM),statistics.mean(h_f1scoreM),statistics.mean(h_accuracyM))\n",
    "print(\"Desviaciones de precision, recall,f1score y accuracy:\",statistics.stdev(h_precisionM),statistics.stdev(h_recallM),statistics.stdev(h_f1scoreM),statistics.stdev(h_accuracyM))\n",
    "print(\"\")\n",
    "\n"
   ]
  },
  {
   "cell_type": "raw",
   "metadata": {},
   "source": [
    "OBTENCION DE LOS RESULTADOS:\n",
    "\n",
    "En esta primera parte se han entrenado los datos por medio de dos técnicas, la primera se llama perceptrón multicapa y la segunda se llama máquinas de vectores de soporte, los resultados obtenidos fueron:\n",
    "\n",
    "perceptrón multicapa => \n",
    "        -La precisión indica que el 0.86 aproximadamente de las clasificiaciones que se predijeron que sí                  pertenecían a dicha clase de copista, correspondieron con la clase.\n",
    "        \n",
    "        -Recall indica que fue capaz de identificar el 0.86 aproximadamente correctamente de los copistas a los            cuales pertenecía  cada manuscrito.  \n",
    "\n",
    "        -Accuracy indica que de todas las predicciones que hizo, el 0.86 aproximadamente resultaron que estaban            correctas.\n",
    "        \n",
    "        -F1 score nos muestra un valor de 0.86 aproximadamente donde permite combinar la precision y recall. \n",
    "\n",
    "máquinas de vectores de soporte => \n",
    "        -La precisión indica que el 0.69 aproximadamente de las clasificiaciones que se predijeron que sí                  pertenecían a dicha clase de copista, correspondieron con la clase.\n",
    "        \n",
    "        -Recall indica que fue capaz de identificar el 0.69 aproximadamente correctamente de los copistas a los            cuales pertenecía  cada manuscrito.  \n",
    "\n",
    "        -Accuracy indica que de todas las predicciones que hizo, el 0.69 aproximadamente resultaron que estaban            correctas.\n",
    "        \n",
    "        -F1 score nos muestra un valor de 0.69 aproximadamente donde permite combinar la precision y recall. \n",
    " \n",
    "\n",
    "\n",
    " Con base en los anteriores resultados entonces se selecciona la técnica de perceptrón multicapa para continuar con las mejoras.\n"
   ]
  },
  {
   "cell_type": "raw",
   "metadata": {},
   "source": [
    "#PLAN DE AJUSTE 1\n",
    "\n",
    "- Eliminar los atributos que muestren una correlación mayor a 0.80 (X)\n",
    "- Balancear los datos de tal forma que el conjunto de datos aumente.(_/)\n",
    "- Aumentar o disminuir el numero K en que se dividirá para hacer cross validation(_/)\n",
    "\n",
    "\n"
   ]
  },
  {
   "cell_type": "code",
   "execution_count": 18,
   "metadata": {},
   "outputs": [
    {
     "name": "stdout",
     "output_type": "stream",
     "text": [
      "11    8572\n",
      "10    8572\n",
      "9     8572\n",
      "8     8572\n",
      "7     8572\n",
      "6     8572\n",
      "5     8572\n",
      "4     8572\n",
      "3     8572\n",
      "2     8572\n",
      "1     8572\n",
      "0     8572\n",
      "Name: type copyist, dtype: int64\n"
     ]
    },
    {
     "data": {
      "image/png": "[encoded data removed]",
      "text/plain": [
       "<Figure size 432x288 with 1 Axes>"
      ]
     },
     "metadata": {
      "needs_background": "light"
     },
     "output_type": "display_data"
    }
   ],
   "source": [
    "#Generar conjuntos de datos de igual cantidad con el fin de obtener una cantidad de registros iguales para \n",
    "#todos los tipos de clases,para ello se eliminarán algunos registros, mientras que otros pertenecientes a \n",
    "#otras clases se duplicarán.\n",
    "\n",
    "#Primero se aumentaran la cantidad de registros pertenecientes a las clases que tienen menos de 1000 registros \n",
    "max_size = 8572\n",
    "lst = [data]\n",
    "\n",
    "for class_index, group in data.groupby('type copyist'):\n",
    "    if len(group) <= 3923:\n",
    "        lst.append(group.sample(max_size - len(group),replace=True))\n",
    "    \n",
    "dataBal = pd.concat(lst)\n",
    "\n",
    "#Cuantos registros hay por cada clase? es decir, por cada valor del atributo de salida?\n",
    "clasificar = dataBal['type copyist'].value_counts()\n",
    "print(clasificar)\n",
    "clasificar.plot(kind='bar');"
   ]
  },
  {
   "cell_type": "code",
   "execution_count": 19,
   "metadata": {},
   "outputs": [
    {
     "name": "stdout",
     "output_type": "stream",
     "text": [
      "0 iteración\n",
      "parámetro seleccionado:  {'activation': 'tanh', 'hidden_layer_sizes': 50}\n",
      "1 iteración\n",
      "parámetro seleccionado:  {'activation': 'tanh', 'hidden_layer_sizes': 50}\n",
      "2 iteración\n",
      "parámetro seleccionado:  {'activation': 'tanh', 'hidden_layer_sizes': 50}\n",
      "3 iteración\n",
      "parámetro seleccionado:  {'activation': 'tanh', 'hidden_layer_sizes': 50}\n",
      "4 iteración\n",
      "parámetro seleccionado:  {'activation': 'tanh', 'hidden_layer_sizes': 50}\n",
      "5 iteración\n",
      "parámetro seleccionado:  {'activation': 'tanh', 'hidden_layer_sizes': 50}\n",
      "6 iteración\n",
      "parámetro seleccionado:  {'activation': 'tanh', 'hidden_layer_sizes': 50}\n",
      "7 iteración\n",
      "parámetro seleccionado:  {'activation': 'tanh', 'hidden_layer_sizes': 50}\n",
      "8 iteración\n",
      "parámetro seleccionado:  {'activation': 'tanh', 'hidden_layer_sizes': 50}\n",
      "9 iteración\n",
      "parámetro seleccionado:  {'activation': 'tanh', 'hidden_layer_sizes': 50}\n",
      "Reporte del Holdout\n",
      "\n",
      "Medidas de Perceptrón multicapa\n",
      "Medias de precision, recall, f1score y accuracy: 0.9730763622223302 0.9730763622223302 0.9730763622223302 0.9730763622223302\n",
      "Desviaciones de precision, recall, f1score y accuracy: 0.0021502570949613877 0.0021502570949613877 0.0021502570949613734 0.0021502570949613877\n",
      "\n"
     ]
    }
   ],
   "source": [
    "#SEGUNDA ITERACIÓN\n",
    "\n",
    "HOLDOUT = 10\n",
    "\n",
    "h_precisionPI = []\n",
    "h_recallPI = []\n",
    "h_f1scorePI = []\n",
    "h_accuracyPI = []\n",
    "\n",
    "\n",
    "for i in range(HOLDOUT):\n",
    "    print(i,'iteración')\n",
    "    X_train, X_test, y_train, y_test = train_test_split(dataBal.drop(['type copyist'],axis=1), dataBal['type copyist'], test_size=0.4)\n",
    "    # Se crea el clasificador base\n",
    "    mlp = MLPClassifier(max_iter=5000)\n",
    "    parameter_space = {\n",
    "        'hidden_layer_sizes': [(5), (10), (50)],\n",
    "        'activation': ['logistic', 'tanh', 'relu'],\n",
    "    }\n",
    "    #se selecciona el mejor numero de capas, nodos, y funcion de activación\n",
    "    clf = GridSearchCV(mlp, parameter_space, n_jobs=-1, cv=5, refit=True)\n",
    "    clf.fit(X_train,y_train)\n",
    "    print('parámetro seleccionado: ',clf.best_params_)\n",
    "    # Se hace la prediccion sobre los datos de prueba\n",
    "    pred = clf.predict(X_test)\n",
    "    # Se calculan metricas a partir de los datos de prueba\n",
    "    mat = confusion_matrix(y_test, pred)\n",
    "    #print('Esta es la matriz de perceptrón multicapa', mat)\n",
    "    #print(\"Precision:\",precision_score(y_test,pred))\n",
    "    #print(\"Recall:\",recall_score(y_test,pred))\n",
    "    #print(\"F1score:\",f1_score(y_test,pred))\n",
    "    h_precisionPI.append(precision_score(y_test,pred,average = 'micro'))\n",
    "    h_recallPI.append(recall_score(y_test,pred,average = 'micro'))\n",
    "    h_f1scorePI.append(f1_score(y_test,pred,average = 'micro'))\n",
    "    h_accuracyPI.append(accuracy_score(y_test,pred))\n",
    "    \n",
    "print(\"Reporte del Holdout\\n\")\n",
    "\n",
    "print(\"Medidas de Perceptrón multicapa\")\n",
    "print(\"Medias de precision, recall, f1score y accuracy:\",statistics.mean(h_precisionPI),statistics.mean(h_recallPI),statistics.mean(h_f1scorePI), statistics.mean(h_accuracyPI))\n",
    "print(\"Desviaciones de precision, recall, f1score y accuracy:\",statistics.stdev(h_precisionPI),statistics.stdev(h_recallPI),statistics.stdev(h_f1scorePI),statistics.stdev(h_accuracyPI))\n",
    "print(\"\")\n",
    "  \n",
    "\n"
   ]
  },
  {
   "cell_type": "raw",
   "metadata": {},
   "source": [
    "Para esta segunda iteracion decidí realizar los ajustes antes mencionados, de los cuáles los siguientes dieron resultado:\n",
    "\n",
    "-Decidí balancear los datos de tal manera que cada clase aumente la cantidad de registros porque aún habían muchos datos de algunas clases que podrían aportar información para la clasificación, entonces en primera instancia decidí aumentar un poco más, sólo las clases que tenían una cantidad pequeña de registros, como esto permitió obtener una mejora notable en las medidas de desempeño, decidí empezar a subir de poco la cantidad de registros de aquellas clases que poseían menos de 1000, después menos de 2000 y así seguí, pues cada vez que experimentaba con estos datos obtenía una mejora significativa  en las métricas de desempeño, por lo tanto viendo estas mejoras, decidí que todas las clases iban a aumentar su cantidad de registros de tal forma que tuvieran la misma cantidad de registros que tiene la clase que posee una cantidad mayor a todas, es así entonces que finalmente todas las clases poseen 8572 registros. Es así que se logró evidenciar que estos datos que se aumentaron por cada clase permitieron brindar mayor información para hacer una buena clasificación.\n",
    "\n",
    "Esta medida tomada permitió mejorar todas las medidas de desempeño en un porcentaje del 4% aproximadamente, pues pasó de 0.8647916666666666 a 0.9097916666666667.\n",
    "\n",
    "-Otra decisión que permitió mejorar las medidas de desempeño fue aumentar el numero de particiones sobre el conjunto de datos con los cuales se iba a trabajar la técnica de cross validation, esto lo decidí debido a que el número de datos creció de manera significativa que me pareció conveniente aumentar el numero de las k combinaciones de datos con los que se usaba la técnica antes mencionada para poder tener una mayor precision a la hora de estimar la cantidad de neuronas por capa y la función de activación, es por esto que empecé a experimentar, subí el numero de particiones a 5 y noté una mejora muy buena, después decidí subir a 8 y 10 pero estas veces no me indicaron una mejora mejor que la que me indicaba con 5 particiones, es así que con base en estos resultados, decidí dejar que la técnica se realizará con 5 particiones. Es por esto que concluyo que entre mayor sea el tamaño de los datos se necesitará una mayor cantidad de particiones para poder lograr una buena estimación de los parámetros que en este caso se estaba tratando de definir.\n",
    "\n",
    "\n",
    "Esta medida tomada permitió mejorar todas las medidas de desempeño en un porcentaje del 7% aproximadamente, pues pasó de 0.9097916666666667 a 0.9730763622223302.\n",
    "\n",
    "Mejora lograda con ambas particiones fue de 11% aproximadamente.\n",
    "\n",
    "-La precisión indica que el 0.97 aproximadamente de las clasificiaciones que se predijeron que sí                  pertenecían a dicha clase de copista, correspondieron con la clase.\n",
    "        \n",
    "-Recall indica que fue capaz de identificar el 0.97 aproximadamente correctamente de los copistas a los            cuales pertenecía  cada manuscrito.  \n",
    "\n",
    "-Accuracy indica que de todas las predicciones que hizo, el 0.97 aproximadamente resultaron que estaban            correctas.\n",
    "        \n",
    "-F1 score nos muestra un valor de 0.97 aproximadamente donde permite combinar la precision y recall.\n"
   ]
  },
  {
   "cell_type": "raw",
   "metadata": {},
   "source": [
    "#PLAN DE AJUSTE 2\n",
    "\n",
    "- Aumentar el número de neuronas por cada capa.\n",
    "\n",
    "NOTAAAA: Profe cometí el error de volver a correr la tercera iteración, entonces intenté nuevamente volver a correr el ciclo, sin embargo como es muyyy lento, demasiado lentoo, no alcanzó a terminar de nuevo el ciclo, sin embargo si tengo el resultado que me mostraron las métricas cuando se logró completar el ciclo, el cual está abajo. Entonces pues ahí queda por si quiere volverlo a correr y corroborar la mejora lograda."
   ]
  },
  {
   "cell_type": "code",
   "execution_count": null,
   "metadata": {},
   "outputs": [
    {
     "name": "stdout",
     "output_type": "stream",
     "text": [
      "0 iteración\n",
      "parámetro seleccionado:  {'activation': 'tanh', 'hidden_layer_sizes': 300}\n",
      "1 iteración\n"
     ]
    }
   ],
   "source": [
    "#TERCERA ITERACIÓN\n",
    "\n",
    "HOLDOUT = 10\n",
    "\n",
    "h_precisionPI = []\n",
    "h_recallPI = []\n",
    "h_f1scorePI = []\n",
    "h_accuracyPI = []\n",
    "\n",
    "\n",
    "for i in range(HOLDOUT):\n",
    "    print(i,'iteración')\n",
    "    X_train, X_test, y_train, y_test = train_test_split(dataBal.drop(['type copyist'],axis=1), dataBal['type copyist'], test_size=0.4)\n",
    "    # Se crea el clasificador base\n",
    "    mlp = MLPClassifier(max_iter=5000)\n",
    "    parameter_space = {\n",
    "        'hidden_layer_sizes': [(100), (200), (300)],\n",
    "        'activation': ['logistic', 'tanh', 'relu'],\n",
    "    }\n",
    "    #se selecciona el mejor numero de capas, nodos, y funcion de activación\n",
    "    clf = GridSearchCV(mlp, parameter_space, n_jobs=-1, cv=5, refit=True)\n",
    "    clf.fit(X_train,y_train)\n",
    "    print('parámetro seleccionado: ',clf.best_params_)\n",
    "    # Se hace la prediccion sobre los datos de prueba\n",
    "    pred = clf.predict(X_test)\n",
    "    # Se calculan metricas a partir de los datos de prueba\n",
    "    mat = confusion_matrix(y_test, pred)\n",
    "    #print('Esta es la matriz de perceptrón multicapa', mat)\n",
    "    #print(\"Precision:\",precision_score(y_test,pred))\n",
    "    #print(\"Recall:\",recall_score(y_test,pred))\n",
    "    #print(\"F1score:\",f1_score(y_test,pred))\n",
    "    h_precisionPI.append(precision_score(y_test,pred,average = 'micro'))\n",
    "    h_recallPI.append(recall_score(y_test,pred,average = 'micro'))\n",
    "    h_f1scorePI.append(f1_score(y_test,pred,average = 'micro'))\n",
    "    h_accuracyPI.append(accuracy_score(y_test,pred))\n",
    "    \n",
    "print(\"Reporte del Holdout\\n\")\n",
    "\n",
    "print(\"Medidas de Perceptrón multicapa\")\n",
    "print(\"Medias de precision, recall, f1score y accuracy:\",statistics.mean(h_precisionPI),statistics.mean(h_recallPI),statistics.mean(h_f1scorePI), statistics.mean(h_accuracyPI))\n",
    "print(\"Desviaciones de precision, recall, f1score y accuracy:\",statistics.stdev(h_precisionPI),statistics.stdev(h_recallPI),statistics.stdev(h_f1scorePI),statistics.stdev(h_accuracyPI))\n",
    "print(\"\")\n",
    "  \n"
   ]
  },
  {
   "cell_type": "raw",
   "metadata": {},
   "source": [
    "En esta segunda parte decidí aumentar el número de neuronas, debido a que el número de datos aumentó considerablemente, ví que era necesario aumentar el número de neuronas de la capa oculta, ya que con una cantidad tan grande de datos y una cantidad pequeña de neuronas es posible que no se puedan obtener las características e información suficiente para que más adelante se pueda hacer una correcta clasificación, es así que empecé aprobar y aumentar el número de capas, hasta que después de varios experimentos decidí dejar 100,200 y 300, pues en algunas iteraciones toma 200 como mejor cantidad de neuronas por capa y en otros 300, sin embargo también dejé el 100 por si es seleccionado en alguna iteración. Esto me permite evidenciar que a mayor cantidad de datos es mejor tener una mayor cantidad de neuronas para poder recolectar la información suficiente para una buena clasificación.\n",
    "\n",
    "Este cambio permitió incrementar las medidas de desempeño, pasó de 0.9730763622223302 a 0.994240023331551, por lo tanto mejoró aproximadamente 2% las medidas de desempeño.\n",
    "\n",
    "\n",
    "\n",
    "-La precisión indica que el 0.99 aproximadamente de las clasificiaciones que se predijeron que sí                  pertenecían a dicha clase de copista, correspondieron con la clase.\n",
    "        \n",
    "-Recall indica que fue capaz de identificar el 0.99 aproximadamente correctamente de los copistas a los            cuales pertenecía  cada manuscrito.  \n",
    "\n",
    "-Accuracy indica que de todas las predicciones que hizo, el 0.99 aproximadamente resultaron que estaban            correctas.\n",
    "        \n",
    "-F1 score nos muestra un valor de 0.99 aproximadamente donde permite combinar la precision y recall.\n"
   ]
  },
  {
   "cell_type": "raw",
   "metadata": {},
   "source": [
    "Análisis comparativo: \n",
    "\n",
    "\n",
    "En la primera iteración casi no se realizaron cambios directos al conjunto de datos de entrada, porque realmente este conjunto posee desde la entrada unas características muy favorables pues no tiene datos faltantes, no hay atributos con una alta correlación, lo que si poseía era un desbalance significativo entre las diferentes clases, es por esto decidí lograr que aquellas clases que tenía una cantidad muy pequeña lograran aumentar y los que tenía una cantidad muy grande de regitros lograrán disminuir, de tal forma que todos se encuentren en el mismo punto, es decir que todas las clases tengan la misma cantidad de registros, por el momento decidí realizarlo de esta forma porque no quería que las clases muy pequeñas contengan datos que realmente no aporten nada y por el contrario puedan lograr mostrar características que no eran, debido a la duplicación de estos, y en cuanto a los parámetros  del perceptrón multicapa decidí explorar con con valores que por el momento me parecieron proporcionales para la cantidad de datos que estaba manejando, mientras que en la segunda gracias a los resultados anteriores, exploré un poco más los datos de entrada y me dí cuenta que habían muchos datos que no se estaban usando y que tal vez podían aportar, es entonces que empiezo a experimentar y decido hacer un ajuste nuevamente con respecto al balance aumentando la cantidad de datos de cada clase, además entro a ajustar aquella función que permite estimar de la mejor manera los parámetros del modelo seleccionado, estos dos cambios se pudieron realizar gracias a los resultados anteriores que indicaron indicions positivos en cuanto a aumentar los datos de las clases y por tanto revisar nuevamente los datos del modelo, es por eesto que en la segunda iteración se obtiene un mejor resultado en cuantas a las medidas de desempeño. Finalmente teniendo en cuenta el ajuste anterior es decir teniendo en cuenta la incrementación de datos, decidí también ajustar el numero de neuronas que había en la capa, pues pensé que era conveniente aumentar para que se pueda obtener mayor información, es así que entonces con una serie de experimentos determiné el que creí proporcional y que permitió mejorar aún más las medidas de desempeño. Por lo tanto, gracias a que a partir de la segunda iteración se tenían ciertas bases, se permitió tomar 3 decisiones que aumentaron significativamente las métricas de desempeño.\n",
    "\n",
    "\n",
    "-La precisión en la primera iteración indica que el 0.86 aproximadamente de las clasificiaciones que se predijeron que sí pertenecían a dicha clase de copista, correspondieron con la clase, mientras que para la segunda iteración fue el 0.97 aproximadamente y para la tercera fue el 0.99 aproximadamente.\n",
    "\n",
    "-Recall indica que fue capaz de identificar el 0.86 aproximadamente correctamente de los copistas a los            cuales pertenecía  cada manuscrito, mientras que para la segunda iteración fue el 0.97 aproximadamente y para la tercera fue el 0.99 aproximadamente.  \n",
    "\n",
    "-Accuracy indica que de todas las predicciones que hizo, el 0.86 aproximadamente resultaron que estaban            correctas, mientras que para la segunda iteración fue el 0.97 aproximadamente y para la tercera fue el 0.99 aproximadamente.\n",
    "\n",
    "-F1 score nos muestra un valor de 0.86 aproximadamente donde permite combinar la precision y recall,mientras que para la segunda iteración fue el 0.97 aproximadamente y para la tercera fue el 0.99 aproximadamente.\n",
    "\n",
    "Conclusiones del proceso:\n",
    "\n",
    "Me pareció una buena estrategia combinar las dos técnicas(Holdout y cross validation) para hacer las distintas estimaciones, creo que juntas gracias a las diferentes particiones que se hicieron con los datos, dieron confianza para pensar que realmente las diferentes estimaciones de las medidas de desempeño son totalmente independientes de la partición entre los datos, lo que permite tomar decisiones basados en métricas que generan seguridad. Esta combinación de estas dos técnicas es muy precisa pues desde el primer ciclo permitió obtener muy buenos resultados, aunque, si vale la pena reconocer que en términos de complejidad temporal es muy costoso, pues el proceso es demasiadoo lento y tarda muchoo tiempo en terminar, es un algortimo cuadrático, pues está el ciclo que permite realizar los 10 particiones de holdout y dentro de este hay una funcion que usa la técnica cross validation seguramente son varios ciclos que permiten realizar la determinación de la cantidad de capas y la función de activacion para el modelo de perceptrón multicapa. También me parece muy importante recalcar que los cambios que se pueden hacer, no solo van dirigidos a los datos de entrada, sino que también pueden darse ajustes hacía los parámetros de los modelos pues aportan notablemente.Este proceso que se trabajó por ciclos, permitió ver las mejoras o fallas anteriores para posteriormente concluir que es conveniente y que no, y con base en aquellos cambios decidir si aquellos cambios hechos pueden aún más mejorar el desempeño, o si realmente ya no hacen más o definitivamente no son necesarios, entonces realizar varios ciclos permite obtener una retroalimentación para tomar posteriormente nuevas decisiones. El conjunto realmente desde un inicio presentó muy buenas caracteristicas, y con ayuda de las diferentes estrategias finalmente se pudo obtener un buen resultado.\n",
    "\n",
    "\n"
   ]
  }
 ],
 "metadata": {
  "kernelspec": {
   "display_name": "Python 3",
   "language": "python",
   "name": "python3"
  },
  "language_info": {
   "codemirror_mode": {
    "name": "ipython",
    "version": 3
   },
   "file_extension": ".py",
   "mimetype": "text/x-python",
   "name": "python",
   "nbconvert_exporter": "python",
   "pygments_lexer": "ipython3",
   "version": "3.7.6"
  }
 },
 "nbformat": 4,
 "nbformat_minor": 4
}
